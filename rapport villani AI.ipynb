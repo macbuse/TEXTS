{
 "cells": [
  {
   "cell_type": "markdown",
   "metadata": {},
   "source": [
    "This is an annotated reading of Oezratty's critic of Villani's \n",
    "[report](https://www.aiforhumanity.fr/pdfs/9782111457089_Rapport_Villani_accessible.pdf)\n",
    "\n"
   ]
  },
  {
   "cell_type": "markdown",
   "metadata": {},
   "source": [
    "Je vais donc traiter ici des points suivants :\n",
    "\n",
    "1. La France, leader de l’éthique de l’IA, l’axe principal du Rapport Villani.\n",
    "\n",
    "2. Une vision trop franco-française des applications de l’IA qui peut handicaper les visées de leadership mondial.\n",
    "\n",
    "3. La priorité sur la recherche en IA.\n",
    "\n",
    "4. La politique industrielle de l’IA, notamment dans les transports et la santé.\n",
    "\n",
    "5. La curieuse approche dans le matériel de l’IA qui oublie les composants.\n",
    "\n",
    "6. La méthode, toujours la méthode, qui rend difficile la production de ce genre de rapport.\n",
    "\n",
    "7. Puis, faire quelques propositions en synthèse."
   ]
  },
  {
   "cell_type": "markdown",
   "metadata": {},
   "source": [
    "http://www.oezratty.net/wordpress/2018/rapport-villani/\n",
    "\n",
    "see also\n",
    "\n",
    "https://www.frenchweb.fr/ce-quil-faut-retenir-du-rapport-de-cedric-villani-sur-lintelligence-artificielle/321052\n",
    "\n",
    "and\n",
    "\n",
    "https://medium.com/@IntuitMachine\n",
    "\n",
    "https://www.topbots.com/13-competing-factions-artificial-intelligence-tribes/\n",
    "\n",
    "and from an Asian point of view\n",
    "\n",
    "https://www.edge.org/conversation/kai_fu_lee-we-are-here-to-create\n",
    "\n",
    "\n",
    "I’m currently working on venture capital. We’re working with startup companies. We see a lot of progress in the results by just taking the **already well proven algorithms** and applying them to **real world** problems. We’re now at an age where all the fruit trees have blossomed. There are so many low-hanging fruits that we should maximize our opportunity by taking each one to create value. In order to create value, we don’t yet need new advances in science. The scientists should go off and invent the next better than deep-learning algorithm, and we, in the product entrepreneurial venture space, should maximize value. That value is tremendous because it will eventually replace all of our routine tasks and do so better than people in creating so much value for society.\n",
    "\n",
    "\n",
    "    "
   ]
  },
  {
   "cell_type": "markdown",
   "metadata": {},
   "source": [
    "## Summary of Oerzratty\n",
    "\n",
    "La principale ligne de force de ce rapport est de mettre en avant une vision d’une IA éthique \n",
    "\n",
    "- responsable\n",
    "- soucieuse des utilisateurs. \n",
    "\n",
    "Il est par contre lacunaire dans sa vision industrielle. Il serait évidemment préférable d’avoir à la fois une IA éthique et un leadership économique mondial dans l’IA. \n",
    "\n",
    "L’éthique peut être vendeuse mais elle est rarement le principal bénéfice des offres innovantes.\n",
    "\n",
    "\n",
    "Cette volonté affichée de faire de la France:\n",
    "\n",
    "- un leader mondial d’une vision éthique de l’IA\n",
    "- de son impact sociéta\n",
    "- de sa régulation \n",
    "\n",
    "se retrouve dans le branding du site présentant le Rapport Villani : AIForHumanity !\n",
    "\n",
    "---\n",
    "\n",
    "Let's not forget [Make our Planet Great Again](https://www.campusfrance.org/en/make-our-planet-great-again-en).\n",
    "\n",
    "But this is done in a report [without citing Kurzweil or Asimov](https://en.wikipedia.org/wiki/Ethics_of_artificial_intelligence) explicitly.\n",
    "\n",
    "---\n",
    "\n",
    "[Proublica](https://www.propublica.org/) is cited :\n",
    "\n",
    "*ProPublica is an independent, nonprofit newsroom that produces investigative journalism with moral force. We dig deep into important issues, shining a light on abuses of power and betrayals of public trust — and we stick with those issues as long as it takes to hold power to account.*\n",
    "\n",
    "But takes a cut from Soros- hardly a good example of a died in the wool democratic thinker.\n",
    "\n",
    "---\n",
    "\n",
    "## Society/societal\n",
    "\n",
    "Cela respire dans nombre de propositions, comme dans \n",
    "- les liens  entre l’IA et la responsabilité environnementale \n",
    "- ou encore le besoin d’améliorer la diversité des profils dans les métiers du numérique\n",
    "- et notamment celui d’attirer plus de jeunes filles dans ces filières. \n",
    " \n",
    "Sur ce dernier point, un grand bravo. Reste à le concrétiser sur le terrain et auprès des jeunes dans le secondaire ! C’est un plan qui nécessitera de travailler sur une génération entière avant qu’il porte ses fruits. Il devra donc survivre à trois autres élections présidentielles !\n",
    "\n",
    "---\n",
    "\n",
    "La question de **l’explicabilité** des algorithmes est aussi mise en avant.\n",
    "Comme si les décisions issues des logiciels traditionnels nous étaient expliquées au quotidien comme lorsque votre carte bancaire est refusée inopinément lors d’un déplacement à l’étranger ! \n",
    "\n",
    "---\n",
    "This seems to be related to [interpretability](https://www.youtube.com/watch?v=93Xv8vJ2acI).\n",
    "\n",
    "\n",
    "I thought that this was a question about **test sets** \n",
    "but that seems slightly naive listening to the conference.\n",
    "There is an obvious comparison to make with drug testing\n",
    "**in the wild**.\n",
    "\n",
    "See [also](http://interpretable.ml/).\n",
    "\n",
    "---\n",
    "\n",
    "\n",
    "Cela permettra en tout cas **aux chercheurs du secteur d’obtenir des financements**, à supposer qu’ils soient difficiles à obtenir aujourd’hui. D’ailleurs, des chercheurs du monde entier planchent sur la question. Ce n’est pas une spécialité française."
   ]
  },
  {
   "cell_type": "markdown",
   "metadata": {},
   "source": [
    "[Mounir Mahjoubi](https://fr.wikipedia.org/wiki/Mounir_Mahjoubi) défend cette approche “éthique de l’IA” \n",
    "en mettant en avant la dimension sociale de l’IA : \n",
    "\n",
    "- Elle doit être mise au service du bien commun et de la société.\n",
    "- Elle ne doit pas être qu’un enjeu économique. \n",
    "\n",
    "D’où la proposition de la création d’un **laboratoire public de la transformation du travail**, une nouvelle structure… alors que l’on pourrait très bien s’appuyer sur le \n",
    "[CESE](https://fr.wikipedia.org/wiki/Conseil_%C3%A9conomique,_social_et_environnemental) qui cherche toujours son utilité et dont les représentants seraient fort bien en mesure de s’emparer d’un tel sujet. Comme le débat sur l’explicabilité des algorithmes, faire des études d’impact sur l’innovation avant qu’elle intervienne est cependant une forme actualisée du principe de précaution.\n",
    "\n",
    "---\n",
    "\n",
    "[Antoine Petit](https://fr.wikipedia.org/wiki/Antoine_Petit_(chercheur) (CNRS) mettait bien cela en évidence dans la conférence #AIForHumanity\n",
    "en jetant un pavé dans la marre avec son avertissement :\n",
    "\n",
    "*“Ne pas devenir les spécialistes de l’éthique tandis que les Chinois et les Américains deviennent des spécialistes du business. Ne faisons pas croire à une homogénéité des valeurs éthiques dans le monde. Si on en était là, il y aurait plus de démocratie sur la planète !”.*\n",
    "\n"
   ]
  },
  {
   "cell_type": "markdown",
   "metadata": {},
   "source": [
    "Le Rapport France IA de mars 2017 comportait une très intéressante partie analytique et exploratoire. C’en était d’ailleurs un point fort car il positionnait bien la situation de la France dans le monde au sujet de l’IA.\n",
    "\n",
    "Ici, l’analyse est rapide au-delà d’un objectif affiché de leadership multi facettes autour de l’IA. Le Rapport Villani **passe directement aux solutions** sans définir la forme du leadership industriel qui est recherchée.\n",
    "\n",
    "Au passage, la conférence AIForHumanity organisée au Collège de France le 29 mars 2018 était transmise en direct sur **YouTube**, et pas sur **DailyMotion**, acte symbolique d’un abandon de la volonté de sauver cette “pépite” française bien malmenée depuis sa création. Cruelle ironie."
   ]
  },
  {
   "cell_type": "markdown",
   "metadata": {},
   "source": [
    "## Lacking vision industrielle\n",
    "\n",
    "La difficulté à articuler une vision industrielle se traduit par un Rapport qui est bien trop franco-français dans ses recettes. \n",
    "\n",
    "113 de ses 135 propositions relèvent des usages et du marché de l’IA en France, et pas dans le Monde. \n",
    "\n",
    "Nous sommes engoncés dans une vision locale du marché de l’IA, entretenant l’illusion que le marché français est un **piédestal suffisant** pour obtenir un leadership moral et un leadership industriel mondial qui nous seraient dus dans l’IA. On veut jouer dans la cour des grands en se contentant de notre bien petit pré-carré.\n",
    "\n",
    "---\n",
    "\n",
    "Isn't this the same for [cars](https://www.statista.com/statistics/263421/market-share-of-selected-car-maunfacturers-in-europe/)\n",
    "\n",
    "----\n",
    "\n",
    "Malgré une compréhension connue et partagée de l’aspect mondial des marchés de l’IA, le pays est arque-bouté sur le leurre de son marché intérieur. On le voit aussi indirectement dans la propension \n",
    "- à privilégier les sujets “à systèmes complexes” \n",
    "- plus qu’à “produits  génériques” comme les systèmes de transports intelligents ou de santé.\n",
    "\n",
    "Les solutions et approches de déploiement de ces systèmes dépendent étroitement des systèmes et acteurs locaux. C’est une **vision d’intégration** plus qu’une **vision industrielle de solutions** en volume. On trimballe ce syndrome depuis les années 1960 !\n"
   ]
  },
  {
   "cell_type": "markdown",
   "metadata": {},
   "source": [
    "# Ambitions européennes\n",
    "\n",
    "\n",
    "Le Rapport affiche quelques ambitions européennes, notamment franco-allemandes, mais sans les articuler sérieusement. \n",
    "\n",
    "On rêve toujours de créer les conditions de la création d’un analogue européens dans le numérique de : \n",
    "\n",
    "- Airbus = mutualisant les industries d’aviation européennes\n",
    "- Amadeus = mutualisant les systèmes de réservation de compagnies aériennes\n",
    "\n",
    "Face à Boeing et le système de réservation d’American Airlines, Sabre, mais dans un modèle b2b.\n",
    "\n",
    "\n",
    "Ces deux projets étaient **d’initiative privée**,  pour l’une et  pour l’autre.  qui ? \n",
    "\n",
    "\n",
    "### Comparison to Quaero (see appendix below)\n",
    "\n",
    "Dans l’IA, c’est surtout du wishful thinking comme l’était le projet de moteur de recherche franco-allemand Quaero de 2005. Moteur qui n’existait d’ailleurs pas, le plan Quaero n’étant qu’un patchwork de subventions de recherche saupoudrées sur des dizaines d’entités publiques et privées sans cohérence ou vision produit unifiée. Son équivalent Villanesque est un projet franco-allemand d’industrie de la robotique. Il fait juste référence à un projet collaboratif de recherche européen qui, côté France, n’associe que le laboratoire de recherche LAAS du CNRS à Toulouse. C’est vraiment léger pour créer un Airbus des robots ! Les Allemands n’ont pas trop besoin de nous pour réussir dans la robotique industrielle. Quant à la robotique humanoïde française, elle est maintenant surtout japonaise !"
   ]
  },
  {
   "cell_type": "markdown",
   "metadata": {},
   "source": [
    "## Solution = new reseau of grandes ecoles ?\n",
    "\n",
    "Il propose surtout la création de quatre à six Instituts 3IA (Interdisciplinaires d’Intelligence Artificielle) organisés dans un réseau national RN3IA. Ils seront voisins, dans leur principe, des IRT (Institut de Recherche Technologiques) qui avaient été lancés dans le cadre des Programmes d’Investissement d’Avenir à partir de 2009. Ils visent à améliorer le lien entre la recherche fondamentale publique et les entreprises. Ils serviront aussi à faire perfuser l’IA dans l’ensemble des disciplines scientifiques qui y feront appel. L’IA devient indispensable aux chercheurs au même titre que le logiciel en général. Enfin, ils auront un statut d’extra-territorialité vis à vis du reste de la recherche publique, avec des conditions de fonctionnement plus souples et favorables aux chercheurs. La question des salaires est évoquée mais se heurte déjà à des blocages. Le gouvernement veut éviter d’ouvrir la boite de Pandore ! Emmanuel Macron a annoncé que ces instituts seraient coordonnés par l’INRIA.\n",
    "\n",
    "Comme le rappelait à juste titre Yann LeCun dans la conférence #AIForHumanity du 29 mars 2018, aucune entreprise n’a le monopole des nouvelles idées dans l’IA. Elles viennent pour l’essentiel de la recherche publique. Ce qui créé un découplage assez fort entre recherche et innovation autour de l’IA. On peut très bien avoir des idées mais mal les valoriser économiquement. D’autres peuvent s’en charger à notre place ! Les 3IA reprennent la vision linéaire recherche => innovation, un vieux démon de la puissance publique française. Les idées des chercheurs sont effectivement des commodités car elles sont généralement publiques et partagées, souvent illustrées par du code open source s’appuyant sur des frameworks eux-mêmes open source.\n",
    "\n",
    "Ces Instituts risquent cependant de devenir **des usines à gaz** s’ajoutant aux grands établissements de recherche publique existants comme \n",
    "- INRIA, \n",
    "- CNRS \n",
    "- CEA (LIST et LETI).\n",
    "\n",
    "En effet, plus de la moitié de l’INRIA fait déjà de l’IA. \n",
    "\n",
    "La recherche collaborative multi-labos existe déjà. Suite à la loi Pécresse de 2007, nombre de projets de laboratoires dépendent déjà de financements privés. Ces 3IA vont s’ajouter à des dispositifs existants tels que les contrats CIFRE qui permettent aux entreprises d’employer des doctorants. Et je vous épargne le mille-feuille déjà bien bourratif avec ses \n",
    "\n",
    "- Pôles de Compétitivité qui associent déjà entreprises et laboratoires de recherche, \n",
    "- le réseau des Instituts Carnot, un label attribué aux laboratoires publics encourageant la recherche partenariale depuis 2006,\n",
    "- le réseau RETIS qui regroupe notamment les incubateurs publics. \n",
    "\n",
    "Bref, la proposition des 3IA **ne va pas simplifier** la cartographie de la recherche française qui ressemble déjà à ça…"
   ]
  },
  {
   "cell_type": "markdown",
   "metadata": {},
   "source": [
    "Dernier point sur la recherche, un éléphant dans la salle n’est pas mentionné : \n",
    "\n",
    "*la recherche pour la création d’intelligence artificielle générale, l’un des champs d’exploration les plus hardis de l’IA qui n’est d’ailleurs pas sans poser des questions clés d’éthique.*\n",
    "\n",
    "C’est un domaine complexe mais des laboratoires et startups étrangers y travaillent déjà, notamment :\n",
    "- Deep Mind (qui s‘installe donc en France),\n",
    "- [Numenta](https://numenta.com/) - neocortex reverse engineering \n",
    "- [Nnaisense](https://nnaisense.com/) en Suisse.\n",
    "\n"
   ]
  },
  {
   "cell_type": "markdown",
   "metadata": {},
   "source": [
    "## La politique industrielle de l’IA\n",
    "\n",
    "Comment quantifier ou qualifier le leadership mondial ? Le Rapport n’évoque pas un fait incontournable : il est quasiment impossible de créer un leader mondial du numérique sans avoir une assise de marché large et homogène comme en bénéficient les acteurs des USA et de Chine. La France est trop petite et l’Europe trop fragmentée pour ce faire. Comment conquérir ces marchés dans ce qui est fréquemment une véritable course de rapidité ? Tout juste avons-nous des velléités d’influencer les politiques d’ouverture de données à l’échelle internationale.\n",
    "\n",
    "Le Rapport propose surtout des mesurettes liées au marché intérieur français ! Je ne suis pourtant pas le seul à alarmer depuis des années les pouvoirs publics sur l’erreur stratégique de cette approche !\n",
    "\n",
    "La proposition de création de labels IA associés à celui de la French Tech pour augmenter la visibilité de l’offre domestique en IA en est une. Le label French Tech porte d’ailleurs sur les écosystèmes régionaux et pas sur les startups prises individuellement. D’ici peu de temps, de tels labels seront aussi inutiles qu’un hypothétique et fumeux label “contient du logiciel” accolé à une solution numérique. Qui plus est, ce label French Tech IA mélangerait la recherche et les entreprises. Les critères n’y sont pas les mêmes. La Mission Villani en a bien conscience. Mais elle n’est pas la reine du marketing des labels.\n",
    "\n"
   ]
  },
  {
   "cell_type": "markdown",
   "metadata": {},
   "source": [
    "## La curieuse approche dans le matériel de l’IA\n",
    "\n",
    "Page 58 du Rapport Villani se trouve la proposition consistant à “Innover dans l’industrie du composant adapté à l’IA“. \n",
    "Après un exposé clair des enjeux dans les processeurs neuromorphiques, la proposition qui en résulte est de créer un supercalculateur. Encore cette propension habituelle à s’éloigner dangereusement des marchés de volume ! Peut-être une influence d’ATOS-Bull qui est le fournisseur national de ce genre d’engins ? Ou celle des chercheurs qui voudraient disposer de leur propre puissance de calcul pour entraîner leurs modèles de réseaux de neurones sans passer par le cloud des GAFAMI. Ca frise le hors sujet car cela passe d’un enjeu industriel mondial à celui de l’équipement local de nos chercheurs.\n",
    "\n",
    "Dans tous les cas, un tel calculateur serait probablement équipé de matériel américain (Intel, Nvidia). Il serait périmé le jour où il serait mis en service tellement la vitesse des processeurs neuromorphiques augmente d’année en année. Nvidia vient tout juste d’annoncer son serveur DGX-2 doté de 16 GPU Volta GV100, totalisant 2 Petaflops et un stockage SSD de 30 To, pour $400K (ci-dessous) et avec une consommation de 10 kW, illustrant la rapidité d’évolution de ce marché.\n",
    "\n",
    "Es-abstracto, un supercalculateur générique n’est pas très passionnant. Il serait intéressant qu’il soit original, qu’il permette d’avancer dans un domaine qui ne relève pas encore de la commodité comme l’entraînement habituel de réseaux convolutionnels. Et ne parlons pas de se poser la question cruciale de l’informatique quantique, dont certaines applications auront un lien avec l’IA, mais qui attendra probablement un “plan calcul quantique” gouvernemental entre 2025 et 2030, quand il sera bien trop tard. Le mot quantique n’apparait pas dans le Rapport Villani.\n",
    "\n",
    "Rien n’est dit non plus de la filière française et européenne des composants et des systèmes embarqués. Quid de STMicroelectronics, de SOITEC, de Kalray, de Scortex, de Prophesee, de Cartesiam, d’AnotherBrain ou GreenWaves Technologies ? Quid des architectures d’IA distribuées avec de l’IA répartie dans les objets connectés, qui présente un bénéfice directement lié à des préoccupations écologiques et de protection de la vie privée évoquées par ailleurs dans le Rapport ? Que nenni."
   ]
  },
  {
   "cell_type": "markdown",
   "metadata": {},
   "source": [
    "## La méthode, toujours la méthode\n",
    "\n",
    "La Mission Villani a interrogé 420 personnes lors de six mois d’auditions. \n",
    "- Comment arrive-t-on à un tel résultat ?\n",
    "Les raisons sont **toujours les mêmes** et liées à la méthode et au casting.\n",
    "\n",
    "Les Missions de ce genre interrogent de nombreux **acteurs de l’écosystème** qui ne connaissent pas forcément grand-chose du sujet (ici, l’IA) dans la pratique – j’éviterai de donner des noms pour ne vexer personne – et qui défendent leur bout de gras. C’est le festival des corps constitués !\n",
    "- Les chercheurs défendent la recherche.\n",
    "- Les trublions de l’Etat veulent le moderniser. \n",
    "- Les chercheurs en éthique défendent l’éthique. \n",
    "- Les investisseurs veulent investir. \n",
    "- Les avocats veulent faire évoluer le droit. \n",
    "- Certains entrepreneurs recherchent du financement ou un assouplissement règlementaire.\n",
    "\n",
    "D’autres se plaignent du manque de compétences et de personnes formées. L’open source promeut l’open source. Mais peu affichent une vision globale.\n",
    "\n",
    "---\n",
    "\n",
    "Les demandes des chercheurs ont été visiblement mieux prises en compte. Pas étonnant ! La mission Villani comprenait deux chercheurs (Cédric Villani et Marc Schoenauer), un ingénieur de l’armement de la DGA et pas moins de cinq permanents du CNNum.\n",
    "\n",
    "Au final, nous avons un rapport qui est un cahier de doléances de propositions avec des niveaux variables de détails. Certaines vont jusqu’à spécifier les prérogatives de la DINSIC, la Direction Informatique de l’Etat dirigée par Henri Verdier, qui faisait bien évidemment partie des personnalités auditionnées. Il est en effet important que l’Etat puisse se moderniser numériquement grâce à l’IA, c’est un point incontournable de ce genre de rapport. D’autres sujets sont survolés de manière ultra-superficielle comme la robotique ou les composants électroniques.\n",
    "\n"
   ]
  },
  {
   "cell_type": "markdown",
   "metadata": {},
   "source": [
    "Dans son discours fort lyrique de conclusion de la conférence AIForHumanity, Emmanuel Macron annonçait un plan de financement du plan IA de 1,5 Md€ jusqu’en 2022, donc au moins 300M€ par an. Ces 1,5M€ seront probablement ponctionnés dans le plan d’investissement dans l’innovation de 10Md€ déjà annoncé. Ces 10Md€ devaient être déployés par les intérêts générés par le placement de cette somme sur les marché, elle-même empruntée, donc devait générer 300M€ par an. Le plan IA semble donc permettre un déploiement plus rapide des crédits alloués. Emmanuel Macron a aussi annoncé un plan de financement de startups, avec 100M€ provenant des intérêts du Fonds pour l’innovation et l’industrie et 70M€ alloués chaque année à l’amorçage de startups deep techs. Le relai viendra du financement privé. Dans la pratique, les bons projets arrivent à se faire financer. L’argent ne manque pas tant que cela.\n",
    "\n",
    "Ces montants annoncés paraissent **ridicules** quand on les met en regard des \\$15B annoncés par Alibaba, mais il faudrait les comparer aux investissements publics d’autres pays européens. Dans ce cadre, les annonces d’Emmanuel Macron sont de bon niveau tout comme l’est son interview dans Wired, faite dans la lignée de celle de Barack Obama en août 2016. On ne peut pas demander à l’Etat d’investir autant que des mastodontes privés. Nous nous n’en avons chez nous ! Et au passage, les $15B d’Alibaba comprennent surtout une grosse réserve pour des acquisitions. Ils ne prévoient de recruter que 100 chercheurs en IA, ce qui est modeste au regard de leur nombre dans le secteur public dans tous les pays occidentaux. Évitons donc de tomber dans le piège de la sidération face à ces annonces toujours ampoulées qui mélangent des choux (M&A, développement produits) et des carottes (recherche fondamentale) sur une longue période ! Sans compter les comparaisons qui mélangent le R et le D dans la R&D. Les développeurs d’un grand acteur du numérique ne sont pas des chercheurs ! Le ration entre chercheurs et développeurs chez les plus grands est au minimum de **1 pour 25** !\n",
    "\n",
    "---\n",
    "Au moins cela fera-t-il gagner du temps et éviter une longue passe côté gouvernement comme l’avait connue la commission pour la libération de croissance française pilotée par Jacques Attali en 2007/2008. Nicolas Sarkozy s’était bien gardé de mettre en application toutes ses recommandations et notamment celles qui pouvaient déranger des corps établis comme les taxis. Une leçon probablement apprise par son rapporteur, un certain Emmanuel Macron !"
   ]
  },
  {
   "cell_type": "markdown",
   "metadata": {},
   "source": [
    "## Appendix I : [Quaero](http://www.quaero.org/)\n",
    "\n",
    "[Source: wiki](https://en.wikipedia.org/wiki/Quaero) \n",
    "\n",
    "[Financial Times](https://www.ft.com/content/fe77daa4-85df-11da-bee0-0000779e2340)\n",
    "\n",
    "\n",
    "### Criticism\n",
    "The French satirical newspaper Le Canard enchaîné pointed out that the funding behind the project was dwarfed by both Microsoft and Google. Search experts Autonomy, (Financial Times) called the plan \"a blatant case of misguided and unnecessary nationalism\". The main issues being that: by the time of Quaero's launch, the search engine market would already have been generations ahead of Quaero in media and device capabilities; some argue that Chirac was more interested in defending [French pride](https://www.theguardian.com/technology/2006/apr/26/news.france) than global advancement of the Internet.\n",
    "\n",
    "Writing in IEEE Spectrum, Nick Tredennick commented that \"Going head-to-head with Google with a project involving well-funded, energetic entrepreneurs would be foolish. Attempting the same with a multigovernment collaboration is beyond description.\" [9]\n",
    "\n",
    "According to the print edition of The Economist, January 6, 2007 (pp. 5), Quaero \"was reportedly scrapped\" since the German part \"grumbled about the cost and have indicated they will produce their own, scaled-down search engine\".\n",
    "\n",
    "### German departure\n",
    "On December 18, 2006, Hartmut Schauerte (de), a state secretary within the Ministry for Economics and Labour, announced during the IT-summit in Potsdam that a German consortium had put together a semantic search project called Theseus Program (de) that would be distinct from Quaero.\n",
    "\n",
    "The main source of disagreement was the format of the search engine, with German engineers favoring a text-based search engine and the French engineers favoring a multimedia search engine. Many German engineers also balked at what they thought was becoming too much of an anti-Google project, rather than a project driven by its own ideals."
   ]
  },
  {
   "cell_type": "markdown",
   "metadata": {},
   "source": [
    "# Appendix II : Équité, biais et discriminations\n",
    "\n",
    "L’opacité de ces technologies est d’autant plus préoccupante qu’elle peut masquer l’origine des biais constatés, sans qu’on puisse par exemple dire s’ils proviennent de l’algorithme ou des données ayant servi à l’entraîner... ou des deux. On constate par exemple que \n",
    "\n",
    "- les algorithmes de ciblage publicitaire de Google sont plus susceptibles de proposer aux femmes des offres d’emploi moins rémunérées\n",
    "- les algorithmes de modération de YouTube tardent parfois à réagir et permettent la circulation virale de contenus choquants\n",
    "- les algorithmes de prédiction de la criminalité favorisent une surveillance accrue des quartiers pauvres afro-américains.\n",
    "\n",
    "De fait tous ces algorithmes ne font que reproduire les discriminations déjà présentes dans les données qu’on leur fournit. Mais ces constatations suscitent des craintes légitimes, et si nous tardons à agir, on risque d’observer une défiance généra- lisée de l’opinion publique à l’égard de l’IA, qui à terme est susceptible de freiner son développement, y compris dans ce qu’il pourrait avoir de bénéfique.\n",
    "\n",
    "\n",
    "## Auditing ?\n",
    "\n",
    "À ce jour, ces capacités, même a posteriori, sont quasi inexistantes, et ce pour diverses raisons. En premier lieu, les techniques d’apprentissage profond sont encore trop opaques (voir plus haut) et\n",
    "leur protocole d’audit encore balbutiants.\n",
    "Ensuite, les entreprises qui ont investi des\n",
    "sommes conséquentes dans la construction\n",
    "de leurs systèmes algorithmiques et tiennent\n",
    "à en recevoir les fruits, sont nécessairement\n",
    "réticentes à voir leur propriété intellectuelle\n",
    "divulguée à des tierces parties. La possibilité\n",
    "d’obtenir des comptes quant aux décisions\n",
    "automatisées est en ce sens limitée par un\n",
    "certain nombre d’obstacles juridiques, tels\n",
    "que la protection de la propriété intellectuelle et du secret des affaires, la protection des données personnelles, la préservation du secret entourant nécessairement un certain nombre d’actions d’ordre régalien et de préser- vation de la sécurité et de l’ordre public. Il existe dès lors un besoin général de configurer une fonction tampon entre les sphères du secret et de l’information légitime.\n",
    "\n",
    "## Worse still\n",
    "\n",
    "Quelle formation ? Pour parvenir à former des professionnels plus responsables, l’enseignement de l’éthique et plus largement des **sciences sociales** doit irriguer l’ensemble de la formation des ingénieurs et informaticiens. À terme, l’objectif est de produire des diplômés qui disposent des compétences techniques nécessaires pour développer des systèmes efficaces et des compétences en sciences sociales pour comprendre l’impact de leurs développements sur la société et ses citoyens. À partir de cette exigence, on peut concevoir différentes maquettes de formation. On peut mettre en place un système de majeure/mineure dans les établissements d’enseignement supérieur, qui permet aux étudiants de choisir une discipline principale, par exemple l’informatique (majeure) et une discipline secondaire telle que le droit (mineure).\n",
    "\n",
    "Quid des juristes ? Nous ne pouvons pas laisser aux seuls chercheurs et ingénieurs la responsabilité de veiller à ce que les systèmes d’IA agissent conformément à la loi. Il est essentiel que les praticiens du droit prennent leur juste part dans cette mission. Cela nécessite au préalable une véritable prise de conscience au sein des professions juridiques et un rapprochement des différentes formations. Ici encore le système majeure/mineure donné en exemple ci-dessus pourrait être mis en œuvre en inversant les priorités : majeure de droit et mineure d’informatique.\n"
   ]
  },
  {
   "cell_type": "code",
   "execution_count": null,
   "metadata": {
    "collapsed": true
   },
   "outputs": [],
   "source": [
    "\n"
   ]
  }
 ],
 "metadata": {
  "kernelspec": {
   "display_name": "Python 2",
   "language": "python",
   "name": "python2"
  },
  "language_info": {
   "codemirror_mode": {
    "name": "ipython",
    "version": 2
   },
   "file_extension": ".py",
   "mimetype": "text/x-python",
   "name": "python",
   "nbconvert_exporter": "python",
   "pygments_lexer": "ipython2",
   "version": "2.7.13"
  }
 },
 "nbformat": 4,
 "nbformat_minor": 2
}
